{
 "cells": [
  {
   "cell_type": "code",
   "execution_count": 1,
   "metadata": {
    "collapsed": true
   },
   "outputs": [],
   "source": [
    "# Let's see how to use DBT to:\n",
    "# 1: train a VGG-like network on CIFAR-10\n",
    "# 2: continue a train from the last iteration\n",
    "# 3: do TRANSFER LEARNING from the trained model to another model that will be able to classify CIFAR-100\n",
    "# 4: do FINE TUNING of the model trained on CIFAR-10 to solve the CIFAR-100 classification problem\n",
    "# 5: compare the train/validation/test performance of the models"
   ]
  },
  {
   "cell_type": "code",
   "execution_count": 2,
   "metadata": {
    "collapsed": true
   },
   "outputs": [],
   "source": [
    "import tensorflow as tf\n",
    "from dtb.inputs import Cifar10, Cifar100\n",
    "from dtb.train import train\n",
    "from dtb.models.VGG import VGG\n",
    "import pandas as pd"
   ]
  },
  {
   "cell_type": "code",
   "execution_count": 3,
   "metadata": {
    "collapsed": true
   },
   "outputs": [],
   "source": [
    "# Instantiate the model\n",
    "vgg = VGG()"
   ]
  },
  {
   "cell_type": "code",
   "execution_count": 4,
   "metadata": {
    "collapsed": true
   },
   "outputs": [],
   "source": [
    "# Instantiate the CIFAR-10 input source\n",
    "cifar10 = Cifar10.Cifar10()"
   ]
  },
  {
   "cell_type": "code",
   "execution_count": 5,
   "metadata": {
    "collapsed": false
   },
   "outputs": [
    {
     "name": "stdout",
     "output_type": "stream",
     "text": [
      "2017-03-06 10:59:16.367742: step 0, loss = 2.4937 (13.6 examples/sec; 3.684 sec/batch)\n",
      "2017-03-06 10:59:24.941985: step 100, loss = 2.1792 (604.2 examples/sec; 0.083 sec/batch)\n",
      "2017-03-06 10:59:33.379265: step 200, loss = 1.8821 (605.1 examples/sec; 0.083 sec/batch)\n",
      "2017-03-06 10:59:41.865065: step 300, loss = 1.7530 (605.1 examples/sec; 0.083 sec/batch)\n",
      "2017-03-06 10:59:50.291389: step 400, loss = 1.8293 (606.8 examples/sec; 0.082 sec/batch)\n",
      "2017-03-06 10:59:58.750471: step 500, loss = 1.6395 (608.0 examples/sec; 0.082 sec/batch)\n",
      "2017-03-06 11:00:07.154172: step 600, loss = 1.5307 (607.3 examples/sec; 0.082 sec/batch)\n",
      "2017-03-06 11:00:15.607922: step 700, loss = 1.5863 (607.2 examples/sec; 0.082 sec/batch)\n",
      "2017-03-06 11:00:24.052722: step 800, loss = 1.5072 (609.6 examples/sec; 0.082 sec/batch)\n",
      "2017-03-06 11:00:32.450109: step 900, loss = 1.5394 (610.0 examples/sec; 0.082 sec/batch)\n",
      "2017-03-06 11:00:40.938016: step 1000, loss = 1.4443 (598.2 examples/sec; 0.084 sec/batch)\n",
      "2017-03-06 11:00:46.374575 (1): train accuracy = 0.360 validation accuracy = 0.480\n"
     ]
    }
   ],
   "source": [
    "# 1: Train VGG on Cifar10 for an Epoch\n",
    "\n",
    "# Place the train process on GPU:0\n",
    "device = '/gpu:0'\n",
    "with tf.device(device):\n",
    "    info = train(\n",
    "        model=vgg,\n",
    "        dataset=cifar10,\n",
    "        hyperparameters={\n",
    "            \"epochs\": 1,\n",
    "            \"batch_size\": 50,\n",
    "            \"regularizations\": {\n",
    "                \"l2\": 1e-5,\n",
    "                \"augmentation\": lambda image: tf.image.random_flip_left_right(image)\n",
    "            },\n",
    "            \"gd\": {\n",
    "                \"optimizer\": tf.train.AdamOptimizer,\n",
    "                \"args\": {\n",
    "                    \"learning_rate\": 1e-3,\n",
    "                    \"beta1\": 0.9,\n",
    "                    \"beta2\": 0.99,\n",
    "                    \"epsilon\": 1e-8\n",
    "                }\n",
    "            }\n",
    "        },\n",
    "        force_restart=True)"
   ]
  },
  {
   "cell_type": "code",
   "execution_count": 6,
   "metadata": {
    "collapsed": false
   },
   "outputs": [
    {
     "data": {
      "text/html": [
       "<div>\n",
       "<table border=\"1\" class=\"dataframe\">\n",
       "  <thead>\n",
       "    <tr style=\"text-align: right;\">\n",
       "      <th></th>\n",
       "      <th>dataset</th>\n",
       "      <th>model</th>\n",
       "      <th>test</th>\n",
       "      <th>train</th>\n",
       "      <th>validation</th>\n",
       "    </tr>\n",
       "  </thead>\n",
       "  <tbody>\n",
       "    <tr>\n",
       "      <th>0</th>\n",
       "      <td>CIFAR-10</td>\n",
       "      <td>VGG</td>\n",
       "      <td>0.4802</td>\n",
       "      <td>0.49092</td>\n",
       "      <td>0.4802</td>\n",
       "    </tr>\n",
       "  </tbody>\n",
       "</table>\n",
       "</div>"
      ],
      "text/plain": [
       "    dataset model    test    train  validation\n",
       "0  CIFAR-10   VGG  0.4802  0.49092      0.4802"
      ]
     },
     "execution_count": 6,
     "metadata": {},
     "output_type": "execute_result"
    }
   ],
   "source": [
    "# Info containes every information related to the trained model.\n",
    "# We're interested in stats only, thus we extract only them from the info dict\n",
    "# Display the results in a table. Let's use a Pandas DataFrame for that\n",
    "df = pd.DataFrame.from_records(info[\"stats\"], index=[0])\n",
    "df"
   ]
  },
  {
   "cell_type": "code",
   "execution_count": 7,
   "metadata": {
    "collapsed": false
   },
   "outputs": [],
   "source": [
    "# 2: train it again for another epoch\n",
    "# Note the `force_restart` parameter removed.\n",
    "# `epochs` is the TOTAL number of epoch for the trained model\n",
    "# Thus since we trained it before for a single epoch,\n",
    "# we set \"epochs\": 2 in order to train it for another epoch"
   ]
  },
  {
   "cell_type": "code",
   "execution_count": 8,
   "metadata": {
    "collapsed": false
   },
   "outputs": [
    {
     "name": "stdout",
     "output_type": "stream",
     "text": [
      "2017-03-06 11:01:37.944289: step 1100, loss = 1.4983 (575.4 examples/sec; 0.087 sec/batch)\n",
      "2017-03-06 11:01:47.054296: step 1200, loss = 1.2373 (567.4 examples/sec; 0.088 sec/batch)\n",
      "2017-03-06 11:01:56.097009: step 1300, loss = 1.2526 (570.1 examples/sec; 0.088 sec/batch)\n",
      "2017-03-06 11:02:05.093629: step 1400, loss = 1.1995 (565.7 examples/sec; 0.088 sec/batch)\n",
      "2017-03-06 11:02:14.115203: step 1500, loss = 1.4037 (567.3 examples/sec; 0.088 sec/batch)\n",
      "2017-03-06 11:02:23.105468: step 1600, loss = 1.3013 (569.3 examples/sec; 0.088 sec/batch)\n",
      "2017-03-06 11:02:32.071529: step 1700, loss = 1.1229 (566.1 examples/sec; 0.088 sec/batch)\n",
      "2017-03-06 11:02:41.063755: step 1800, loss = 1.1351 (565.9 examples/sec; 0.088 sec/batch)\n",
      "2017-03-06 11:02:50.044661: step 1900, loss = 0.8582 (567.1 examples/sec; 0.088 sec/batch)\n",
      "2017-03-06 11:02:59.027356: step 2000, loss = 0.9880 (567.7 examples/sec; 0.088 sec/batch)\n",
      "2017-03-06 11:03:04.643492 (2): train accuracy = 0.680 validation accuracy = 0.615\n"
     ]
    }
   ],
   "source": [
    "with tf.device(device):\n",
    "    info = train(\n",
    "        model=vgg,\n",
    "        dataset=cifar10,\n",
    "        hyperparameters={\n",
    "            \"epochs\": 2,\n",
    "            \"batch_size\": 50,\n",
    "            \"regularizations\": {\n",
    "                \"l2\": 1e-5,\n",
    "                \"augmentation\": lambda image: tf.image.random_flip_left_right(image)\n",
    "            },\n",
    "            \"gd\": {\n",
    "                \"optimizer\": tf.train.AdamOptimizer,\n",
    "                \"args\": {\n",
    "                    \"learning_rate\": 1e-3,\n",
    "                    \"beta1\": 0.9,\n",
    "                    \"beta2\": 0.99,\n",
    "                    \"epsilon\": 1e-8\n",
    "                }\n",
    "            }\n",
    "        })"
   ]
  },
  {
   "cell_type": "code",
   "execution_count": 9,
   "metadata": {
    "collapsed": false
   },
   "outputs": [
    {
     "data": {
      "text/html": [
       "<div>\n",
       "<table border=\"1\" class=\"dataframe\">\n",
       "  <thead>\n",
       "    <tr style=\"text-align: right;\">\n",
       "      <th></th>\n",
       "      <th>dataset</th>\n",
       "      <th>model</th>\n",
       "      <th>test</th>\n",
       "      <th>train</th>\n",
       "      <th>validation</th>\n",
       "    </tr>\n",
       "  </thead>\n",
       "  <tbody>\n",
       "    <tr>\n",
       "      <th>0</th>\n",
       "      <td>CIFAR-10</td>\n",
       "      <td>VGG</td>\n",
       "      <td>0.6147</td>\n",
       "      <td>0.63224</td>\n",
       "      <td>0.6147</td>\n",
       "    </tr>\n",
       "  </tbody>\n",
       "</table>\n",
       "</div>"
      ],
      "text/plain": [
       "    dataset model    test    train  validation\n",
       "0  CIFAR-10   VGG  0.6147  0.63224      0.6147"
      ]
     },
     "execution_count": 9,
     "metadata": {},
     "output_type": "execute_result"
    }
   ],
   "source": [
    "# Display the results in a table. Let's use a Pandas DataFrame for that\n",
    "df = pd.DataFrame.from_records(info[\"stats\"], index=[0])\n",
    "df"
   ]
  },
  {
   "cell_type": "code",
   "execution_count": 10,
   "metadata": {
    "collapsed": true
   },
   "outputs": [],
   "source": [
    "# Save last trained model info\n",
    "vggInfo = info"
   ]
  },
  {
   "cell_type": "code",
   "execution_count": 11,
   "metadata": {
    "collapsed": false
   },
   "outputs": [
    {
     "name": "stdout",
     "output_type": "stream",
     "text": [
      "2017-03-06 11:03:54.293972: step 0, loss = 4.7942 (18.6 examples/sec; 2.692 sec/batch)\n",
      "2017-03-06 11:04:03.336622: step 100, loss = 4.6445 (570.9 examples/sec; 0.088 sec/batch)\n",
      "2017-03-06 11:04:12.272120: step 200, loss = 4.6419 (570.8 examples/sec; 0.088 sec/batch)\n",
      "2017-03-06 11:04:21.190201: step 300, loss = 4.6386 (572.5 examples/sec; 0.087 sec/batch)\n",
      "2017-03-06 11:04:30.124745: step 400, loss = 4.6390 (572.8 examples/sec; 0.087 sec/batch)\n",
      "2017-03-06 11:04:39.070610: step 500, loss = 4.6340 (573.1 examples/sec; 0.087 sec/batch)\n",
      "2017-03-06 11:04:48.024152: step 600, loss = 4.6310 (574.0 examples/sec; 0.087 sec/batch)\n",
      "2017-03-06 11:04:56.940200: step 700, loss = 4.6291 (573.8 examples/sec; 0.087 sec/batch)\n",
      "2017-03-06 11:05:05.875556: step 800, loss = 4.6259 (572.4 examples/sec; 0.087 sec/batch)\n",
      "2017-03-06 11:05:14.849692: step 900, loss = 4.6221 (572.0 examples/sec; 0.087 sec/batch)\n",
      "2017-03-06 11:05:23.794200: step 1000, loss = 4.6149 (572.9 examples/sec; 0.087 sec/batch)\n",
      "2017-03-06 11:05:29.441293 (1): train accuracy = 0.020 validation accuracy = 0.010\n"
     ]
    }
   ],
   "source": [
    "# 3: TRANSFER LEARNING\n",
    "# Use the best model trained on Cifar10, to classify Cifar 100 images.\n",
    "# Thus we train ONLY the softmax linear scope (that has 100 neurons, now),\n",
    "# keeping constant any other previosly trained layer\n",
    "# We load the weights from the previous trained model, or better\n",
    "# DTB saves the \"best\" model (w.r.t. a metric) in a separate folder\n",
    "# So we extract the info[\"paths\"][\"best\"] path, that's the path of the best\n",
    "# model trained so far.\n",
    "cifar100 = Cifar100.Cifar100()\n",
    "with tf.device(\"/gpu:0\"):\n",
    "    transferInfo = train(\n",
    "        model=vgg,\n",
    "        dataset=cifar100,\n",
    "        hyperparameters={\n",
    "            \"epochs\": 1,\n",
    "            \"batch_size\": 50,\n",
    "            \"regularizations\": {\n",
    "                \"l2\": 1e-5,\n",
    "                \"augmentation\": lambda image: tf.image.random_flip_left_right(image)\n",
    "            },\n",
    "            \"gd\": {\n",
    "                \"optimizer\": tf.train.AdamOptimizer,\n",
    "                \"args\": {\n",
    "                    \"learning_rate\": 1e-3,\n",
    "                    \"beta1\": 0.9,\n",
    "                    \"beta2\": 0.99,\n",
    "                    \"epsilon\": 1e-8\n",
    "                    }\n",
    "                }\n",
    "        },\n",
    "        force_restart=True,\n",
    "        surgery={\n",
    "            \"checkpoint_path\": vggInfo[\"paths\"][\"best\"],\n",
    "            \"exclude_scopes\": \"VGG/softmax_linear\",\n",
    "            \"trainable_scopes\": \"VGG/softmax_linear\"\n",
    "        })"
   ]
  },
  {
   "cell_type": "code",
   "execution_count": 12,
   "metadata": {
    "collapsed": false
   },
   "outputs": [
    {
     "name": "stdout",
     "output_type": "stream",
     "text": [
      "2017-03-06 11:06:12.555247: step 0, loss = 4.8401 (18.2 examples/sec; 2.741 sec/batch)\n",
      "2017-03-06 11:06:21.582085: step 100, loss = 4.6511 (573.8 examples/sec; 0.087 sec/batch)\n",
      "2017-03-06 11:06:30.477807: step 200, loss = 4.6383 (574.4 examples/sec; 0.087 sec/batch)\n",
      "2017-03-06 11:06:39.414354: step 300, loss = 4.6384 (571.7 examples/sec; 0.087 sec/batch)\n",
      "2017-03-06 11:06:48.321369: step 400, loss = 4.6325 (573.8 examples/sec; 0.087 sec/batch)\n",
      "2017-03-06 11:06:57.282613: step 500, loss = 4.6286 (574.5 examples/sec; 0.087 sec/batch)\n",
      "2017-03-06 11:07:06.228359: step 600, loss = 4.6255 (573.9 examples/sec; 0.087 sec/batch)\n",
      "2017-03-06 11:07:15.124878: step 700, loss = 4.6227 (573.1 examples/sec; 0.087 sec/batch)\n",
      "2017-03-06 11:07:24.066611: step 800, loss = 4.6208 (572.0 examples/sec; 0.087 sec/batch)\n",
      "2017-03-06 11:07:32.980238: step 900, loss = 4.6149 (573.5 examples/sec; 0.087 sec/batch)\n",
      "2017-03-06 11:07:41.920004: step 1000, loss = 4.6121 (572.3 examples/sec; 0.087 sec/batch)\n",
      "2017-03-06 11:07:47.599671 (1): train accuracy = 0.000 validation accuracy = 0.010\n"
     ]
    }
   ],
   "source": [
    "# 4: FINE TUNING:\n",
    "# Use the model pointed by vggInfo to fine tune the whole network\n",
    "# and tune it on Cifar100.\n",
    "# Let's retrain the whole network end-to-end, starting from the learned weights\n",
    "# Just remove the \"traiable_scopes\" section from the surgery parameter\n",
    "with tf.device(\"/gpu:0\"):\n",
    "    fineTuningInfo = train(\n",
    "        model=vgg,\n",
    "        dataset=cifar100,\n",
    "        hyperparameters={\n",
    "            \"epochs\": 1,\n",
    "            \"batch_size\": 50,\n",
    "            \"regularizations\": {\n",
    "                \"l2\": 1e-5,\n",
    "                \"augmentation\": lambda image: tf.image.random_flip_left_right(image)\n",
    "            },\n",
    "            \"gd\": {\n",
    "                \"optimizer\": tf.train.AdamOptimizer,\n",
    "                \"args\": {\n",
    "                    \"learning_rate\": 1e-3,\n",
    "                    \"beta1\": 0.9,\n",
    "                    \"beta2\": 0.99,\n",
    "                    \"epsilon\": 1e-8\n",
    "                }\n",
    "            }\n",
    "        },\n",
    "        force_restart=True,\n",
    "        surgery={\n",
    "            \"checkpoint_path\": vggInfo[\"paths\"][\"best\"],\n",
    "            \"exclude_scopes\": \"VGG/softmax_linear\"\n",
    "        })\n"
   ]
  },
  {
   "cell_type": "code",
   "execution_count": 13,
   "metadata": {
    "collapsed": false
   },
   "outputs": [
    {
     "data": {
      "text/html": [
       "<div>\n",
       "<table border=\"1\" class=\"dataframe\">\n",
       "  <thead>\n",
       "    <tr style=\"text-align: right;\">\n",
       "      <th></th>\n",
       "      <th>dataset</th>\n",
       "      <th>model</th>\n",
       "      <th>test</th>\n",
       "      <th>train</th>\n",
       "      <th>validation</th>\n",
       "    </tr>\n",
       "  </thead>\n",
       "  <tbody>\n",
       "    <tr>\n",
       "      <th>0</th>\n",
       "      <td>CIFAR-100</td>\n",
       "      <td>VGG</td>\n",
       "      <td>0.01</td>\n",
       "      <td>0.0104</td>\n",
       "      <td>0.01</td>\n",
       "    </tr>\n",
       "  </tbody>\n",
       "</table>\n",
       "</div>"
      ],
      "text/plain": [
       "     dataset model  test   train  validation\n",
       "0  CIFAR-100   VGG  0.01  0.0104        0.01"
      ]
     },
     "execution_count": 13,
     "metadata": {},
     "output_type": "execute_result"
    }
   ],
   "source": [
    "# Compare the performance of Transfer learning and Fine Tuning\n",
    "df = pd.DataFrame.from_records(transferInfo[\"stats\"], index=[0])\n",
    "df"
   ]
  },
  {
   "cell_type": "code",
   "execution_count": 14,
   "metadata": {
    "collapsed": false
   },
   "outputs": [
    {
     "data": {
      "text/html": [
       "<div>\n",
       "<table border=\"1\" class=\"dataframe\">\n",
       "  <thead>\n",
       "    <tr style=\"text-align: right;\">\n",
       "      <th></th>\n",
       "      <th>dataset</th>\n",
       "      <th>model</th>\n",
       "      <th>test</th>\n",
       "      <th>train</th>\n",
       "      <th>validation</th>\n",
       "    </tr>\n",
       "  </thead>\n",
       "  <tbody>\n",
       "    <tr>\n",
       "      <th>0</th>\n",
       "      <td>CIFAR-100</td>\n",
       "      <td>VGG</td>\n",
       "      <td>0.01</td>\n",
       "      <td>0.00994</td>\n",
       "      <td>0.01</td>\n",
       "    </tr>\n",
       "  </tbody>\n",
       "</table>\n",
       "</div>"
      ],
      "text/plain": [
       "     dataset model  test    train  validation\n",
       "0  CIFAR-100   VGG  0.01  0.00994        0.01"
      ]
     },
     "execution_count": 14,
     "metadata": {},
     "output_type": "execute_result"
    }
   ],
   "source": [
    "df = pd.DataFrame.from_records(fineTuningInfo[\"stats\"], index=[0])\n",
    "df"
   ]
  },
  {
   "cell_type": "code",
   "execution_count": 15,
   "metadata": {
    "collapsed": false
   },
   "outputs": [
    {
     "name": "stdout",
     "output_type": "stream",
     "text": [
      "{   'args': {   'batch_size': 50,\n",
      "                'checkpoint_path': '',\n",
      "                'comment': '',\n",
      "                'dataset': <dtb.inputs.Cifar10.Cifar10 object at 0x7f500ff05a58>,\n",
      "                'epochs': 2,\n",
      "                'exclude_scopes': '',\n",
      "                'force_restart': False,\n",
      "                'gd': {   'args': {   'beta1': 0.9,\n",
      "                                      'beta2': 0.99,\n",
      "                                      'epsilon': 1e-08,\n",
      "                                      'learning_rate': 0.001},\n",
      "                          'optimizer': <class 'tensorflow.python.training.adam.AdamOptimizer'>},\n",
      "                'lr_decay': {'enabled': False, 'epochs': 25, 'factor': 0.1},\n",
      "                'model': <dtb.models.VGG.VGG object at 0x7f500ff05978>,\n",
      "                'regularizations': {   'augmentation': <function <lambda> at 0x7f500e46ca60>,\n",
      "                                       'l2': 1e-05},\n",
      "                'trainable_scopes': ''},\n",
      "    'paths': {   'best': '/mnt/data/pgaleone/dtb_work/examples/log/VGG/CIFAR-10_Adam_lr=0.001_l2=1e-05/best',\n",
      "                 'current': '/mnt/data/pgaleone/dtb_work/examples',\n",
      "                 'log': '/mnt/data/pgaleone/dtb_work/examples/log/VGG/CIFAR-10_Adam_lr=0.001_l2=1e-05'},\n",
      "    'stats': {   'dataset': 'CIFAR-10',\n",
      "                 'model': 'VGG',\n",
      "                 'test': 0.61469998121261593,\n",
      "                 'train': 0.63223998320102692,\n",
      "                 'validation': 0.61469998121261593},\n",
      "    'steps': {'decay': 25000, 'epoch': 1000, 'log': 100, 'max': 2000}}\n"
     ]
    }
   ],
   "source": [
    "# For completeness, lets see what a info object contains\n",
    "import pprint\n",
    "pprint.pprint(info, indent=4)"
   ]
  }
 ],
 "metadata": {
  "anaconda-cloud": {},
  "kernelspec": {
   "display_name": "Python 3",
   "language": "python",
   "name": "python3"
  },
  "language_info": {
   "codemirror_mode": {
    "name": "ipython",
    "version": 3
   },
   "file_extension": ".py",
   "mimetype": "text/x-python",
   "name": "python",
   "nbconvert_exporter": "python",
   "pygments_lexer": "ipython3",
   "version": "3.6.0"
  }
 },
 "nbformat": 4,
 "nbformat_minor": 1
}
